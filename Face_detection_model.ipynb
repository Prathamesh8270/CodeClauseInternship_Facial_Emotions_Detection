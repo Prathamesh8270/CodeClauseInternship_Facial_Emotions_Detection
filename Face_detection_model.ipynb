{
 "cells": [
  {
   "cell_type": "code",
   "execution_count": 51,
   "id": "99348adb-1e22-4fe8-a04a-b23c2aeb5c94",
   "metadata": {},
   "outputs": [],
   "source": [
    "import matplotlib.pyplot as plt\n",
    "import numpy as np\n",
    "import os\n",
    "import tensorflow as tf\n",
    "from tensorflow.keras.preprocessing.image import ImageDataGenerator\n",
    "from keras.models import Sequential,load_model\n",
    "from keras.layers import Dense,BatchNormalization,Flatten,Dropout,MaxPooling2D,Conv2D"
   ]
  },
  {
   "cell_type": "code",
   "execution_count": 18,
   "id": "3d68ef33-2334-40f8-b76f-0985910d2c4a",
   "metadata": {},
   "outputs": [],
   "source": [
    "train_data_path = \"train/\"\n",
    "val_data_path = \"validation/\""
   ]
  },
  {
   "cell_type": "code",
   "execution_count": 19,
   "id": "5e0041ae-ba9c-4613-a6d7-f0bb81b842c4",
   "metadata": {},
   "outputs": [
    {
     "name": "stdout",
     "output_type": "stream",
     "text": [
      "Angry   3995\n",
      "Fear   4097\n",
      "Happy   7215\n",
      "Neutral   4965\n",
      "Sad   4830\n",
      "Surprise   3171\n",
      "Total images 28273\n"
     ]
    }
   ],
   "source": [
    "x = 0\n",
    "for expression in os.listdir(train_data_path):\n",
    "    print(expression, \" \", len(os.listdir(train_data_path + expression)))\n",
    "    x = x + len(os.listdir(train_data_path + expression))\n",
    "print(\"Total images\", x)"
   ]
  },
  {
   "cell_type": "code",
   "execution_count": 20,
   "id": "4253b21a-d999-46f4-bed7-adc7bf1cee87",
   "metadata": {},
   "outputs": [
    {
     "name": "stdout",
     "output_type": "stream",
     "text": [
      "Angry   491\n",
      "Fear   528\n",
      "Happy   879\n",
      "Neutral   626\n",
      "Sad   594\n",
      "Surprise   416\n",
      "Total images 3534\n"
     ]
    }
   ],
   "source": [
    "emotions = []\n",
    "x = 0\n",
    "for expression in os.listdir(val_data_path):\n",
    "    print(expression, \" \", len(os.listdir(val_data_path + expression)))\n",
    "    data = [expression]\n",
    "    x = x + len(os.listdir(val_data_path + expression))\n",
    "    emotions.append(data)\n",
    "print(\"Total images\", x)"
   ]
  },
  {
   "cell_type": "code",
   "execution_count": 21,
   "id": "4c9c9df5-0f66-4bc5-a4bb-fc55d81bc254",
   "metadata": {},
   "outputs": [
    {
     "data": {
      "text/plain": [
       "[['Angry'], ['Fear'], ['Happy'], ['Neutral'], ['Sad'], ['Surprise']]"
      ]
     },
     "execution_count": 21,
     "metadata": {},
     "output_type": "execute_result"
    }
   ],
   "source": [
    "emotions"
   ]
  },
  {
   "cell_type": "code",
   "execution_count": 22,
   "id": "07e9ee21-7ab3-4ced-bd8e-3aa3f2e2d1a3",
   "metadata": {},
   "outputs": [
    {
     "name": "stdout",
     "output_type": "stream",
     "text": [
      "Found 28273 images belonging to 6 classes.\n"
     ]
    }
   ],
   "source": [
    "train_data_gen = ImageDataGenerator()\n",
    "\n",
    "train_dataset = train_data_gen.flow_from_directory(\n",
    "    train_data_path,\n",
    "    shuffle=True,\n",
    "    target_size=(48,48),\n",
    "    color_mode=\"grayscale\",\n",
    "    class_mode=\"categorical\",\n",
    "    batch_size=128\n",
    ")"
   ]
  },
  {
   "cell_type": "code",
   "execution_count": 23,
   "id": "faa01cd4-7154-4934-a68c-b557e57e2a88",
   "metadata": {},
   "outputs": [
    {
     "name": "stdout",
     "output_type": "stream",
     "text": [
      "Found 3534 images belonging to 6 classes.\n"
     ]
    }
   ],
   "source": [
    "val_data_gen = ImageDataGenerator()\n",
    "\n",
    "val_dataset = val_data_gen.flow_from_directory(\n",
    "    val_data_path,\n",
    "    shuffle=True,\n",
    "    target_size=(48,48),\n",
    "    color_mode=\"grayscale\",\n",
    "    class_mode=\"categorical\",\n",
    "    batch_size=128\n",
    ")"
   ]
  },
  {
   "cell_type": "code",
   "execution_count": 40,
   "id": "a649e414-c2c5-43f6-b238-d75753e811ac",
   "metadata": {},
   "outputs": [],
   "source": [
    "model = Sequential()"
   ]
  },
  {
   "cell_type": "code",
   "execution_count": 41,
   "id": "61f47431-f385-4744-8dc1-1fd833e9f1eb",
   "metadata": {},
   "outputs": [],
   "source": [
    "model.add(Conv2D(64,(3,3),padding=\"same\",activation=\"relu\",input_shape=(48,48,1)))\n",
    "model.add(BatchNormalization())\n",
    "model.add(MaxPooling2D(pool_size=(2,2)))\n",
    "model.add(Dropout(0.25))\n",
    "\n",
    "model.add(Conv2D(128,(5,5),padding=\"same\",activation=\"relu\"))\n",
    "model.add(BatchNormalization())\n",
    "model.add(MaxPooling2D(pool_size=(2,2)))\n",
    "model.add(Dropout(0.25))\n",
    "\n",
    "model.add(Conv2D(256,(3,3),padding=\"same\",activation=\"relu\"))\n",
    "model.add(BatchNormalization())\n",
    "model.add(MaxPooling2D(pool_size=(2,2)))\n",
    "model.add(Dropout(0.25))\n",
    "\n",
    "model.add(Conv2D(512,(3,3),padding=\"same\",activation=\"relu\"))\n",
    "model.add(BatchNormalization())\n",
    "model.add(MaxPooling2D(pool_size=(2,2)))\n",
    "model.add(Dropout(0.25))\n",
    "\n",
    "model.add(Flatten())\n",
    "\n",
    "model.add(Dense(128,activation=\"relu\"))\n",
    "model.add(BatchNormalization())\n",
    "model.add(Dropout(0.25))\n",
    "\n",
    "model.add(Dense(256,activation=\"relu\"))\n",
    "model.add(BatchNormalization())\n",
    "model.add(Dropout(0.25))\n",
    "\n",
    "model.add(Dense(6,activation=\"softmax\"))"
   ]
  },
  {
   "cell_type": "code",
   "execution_count": 42,
   "id": "514e7b6c-68d0-4e59-944f-5e3c0bd30cc7",
   "metadata": {},
   "outputs": [
    {
     "name": "stdout",
     "output_type": "stream",
     "text": [
      "Model: \"sequential_3\"\n",
      "_________________________________________________________________\n",
      " Layer (type)                Output Shape              Param #   \n",
      "=================================================================\n",
      " conv2d_15 (Conv2D)          (None, 48, 48, 64)        640       \n",
      "                                                                 \n",
      " batch_normalization_16 (Ba  (None, 48, 48, 64)        256       \n",
      " tchNormalization)                                               \n",
      "                                                                 \n",
      " max_pooling2d_12 (MaxPooli  (None, 24, 24, 64)        0         \n",
      " ng2D)                                                           \n",
      "                                                                 \n",
      " dropout_16 (Dropout)        (None, 24, 24, 64)        0         \n",
      "                                                                 \n",
      " conv2d_16 (Conv2D)          (None, 24, 24, 128)       204928    \n",
      "                                                                 \n",
      " batch_normalization_17 (Ba  (None, 24, 24, 128)       512       \n",
      " tchNormalization)                                               \n",
      "                                                                 \n",
      " max_pooling2d_13 (MaxPooli  (None, 12, 12, 128)       0         \n",
      " ng2D)                                                           \n",
      "                                                                 \n",
      " dropout_17 (Dropout)        (None, 12, 12, 128)       0         \n",
      "                                                                 \n",
      " conv2d_17 (Conv2D)          (None, 12, 12, 256)       295168    \n",
      "                                                                 \n",
      " batch_normalization_18 (Ba  (None, 12, 12, 256)       1024      \n",
      " tchNormalization)                                               \n",
      "                                                                 \n",
      " max_pooling2d_14 (MaxPooli  (None, 6, 6, 256)         0         \n",
      " ng2D)                                                           \n",
      "                                                                 \n",
      " dropout_18 (Dropout)        (None, 6, 6, 256)         0         \n",
      "                                                                 \n",
      " conv2d_18 (Conv2D)          (None, 6, 6, 512)         1180160   \n",
      "                                                                 \n",
      " batch_normalization_19 (Ba  (None, 6, 6, 512)         2048      \n",
      " tchNormalization)                                               \n",
      "                                                                 \n",
      " max_pooling2d_15 (MaxPooli  (None, 3, 3, 512)         0         \n",
      " ng2D)                                                           \n",
      "                                                                 \n",
      " dropout_19 (Dropout)        (None, 3, 3, 512)         0         \n",
      "                                                                 \n",
      " flatten_3 (Flatten)         (None, 4608)              0         \n",
      "                                                                 \n",
      " dense_7 (Dense)             (None, 128)               589952    \n",
      "                                                                 \n",
      " batch_normalization_20 (Ba  (None, 128)               512       \n",
      " tchNormalization)                                               \n",
      "                                                                 \n",
      " dropout_20 (Dropout)        (None, 128)               0         \n",
      "                                                                 \n",
      " dense_8 (Dense)             (None, 256)               33024     \n",
      "                                                                 \n",
      " batch_normalization_21 (Ba  (None, 256)               1024      \n",
      " tchNormalization)                                               \n",
      "                                                                 \n",
      " dropout_21 (Dropout)        (None, 256)               0         \n",
      "                                                                 \n",
      " dense_9 (Dense)             (None, 6)                 1542      \n",
      "                                                                 \n",
      "=================================================================\n",
      "Total params: 2310790 (8.81 MB)\n",
      "Trainable params: 2308102 (8.80 MB)\n",
      "Non-trainable params: 2688 (10.50 KB)\n",
      "_________________________________________________________________\n"
     ]
    }
   ],
   "source": [
    " model.summary()"
   ]
  },
  {
   "cell_type": "code",
   "execution_count": 43,
   "id": "0b6e7a3b-e521-428c-887b-1d6a1b377881",
   "metadata": {},
   "outputs": [],
   "source": [
    "model.compile(loss=\"categorical_crossentropy\",optimizer=\"adam\",metrics=[\"accuracy\"])"
   ]
  },
  {
   "cell_type": "code",
   "execution_count": 45,
   "id": "6983c052-4635-41e3-ad2c-cfebe7c4ee93",
   "metadata": {},
   "outputs": [
    {
     "name": "stdout",
     "output_type": "stream",
     "text": [
      "Epoch 1/50\n",
      "221/221 [==============================] - 301s 1s/step - loss: 1.3893 - accuracy: 0.4511 - val_loss: 1.5473 - val_accuracy: 0.4383\n",
      "Epoch 2/50\n",
      "221/221 [==============================] - 306s 1s/step - loss: 1.2484 - accuracy: 0.5162 - val_loss: 1.4588 - val_accuracy: 0.4649\n",
      "Epoch 3/50\n",
      "221/221 [==============================] - 304s 1s/step - loss: 1.1573 - accuracy: 0.5494 - val_loss: 1.4597 - val_accuracy: 0.4468\n",
      "Epoch 4/50\n",
      "221/221 [==============================] - 312s 1s/step - loss: 1.0942 - accuracy: 0.5783 - val_loss: 1.4158 - val_accuracy: 0.4864\n",
      "Epoch 5/50\n",
      "221/221 [==============================] - 307s 1s/step - loss: 1.0432 - accuracy: 0.5985 - val_loss: 1.5162 - val_accuracy: 0.4915\n",
      "Epoch 6/50\n",
      "221/221 [==============================] - 315s 1s/step - loss: 0.9921 - accuracy: 0.6203 - val_loss: 1.4540 - val_accuracy: 0.5198\n",
      "Epoch 7/50\n",
      "221/221 [==============================] - 304s 1s/step - loss: 0.9438 - accuracy: 0.6423 - val_loss: 1.4350 - val_accuracy: 0.5252\n",
      "Epoch 8/50\n",
      "221/221 [==============================] - 289s 1s/step - loss: 0.8950 - accuracy: 0.6628 - val_loss: 1.4658 - val_accuracy: 0.5291\n",
      "Epoch 9/50\n",
      "221/221 [==============================] - 289s 1s/step - loss: 0.8519 - accuracy: 0.6762 - val_loss: 1.5031 - val_accuracy: 0.5167\n",
      "Epoch 10/50\n",
      "221/221 [==============================] - 289s 1s/step - loss: 0.8006 - accuracy: 0.6978 - val_loss: 1.5829 - val_accuracy: 0.5071\n",
      "Epoch 11/50\n",
      "221/221 [==============================] - 289s 1s/step - loss: 0.7669 - accuracy: 0.7104 - val_loss: 1.5241 - val_accuracy: 0.5467\n",
      "Epoch 12/50\n",
      "221/221 [==============================] - 288s 1s/step - loss: 0.7131 - accuracy: 0.7307 - val_loss: 1.5991 - val_accuracy: 0.5402\n",
      "Epoch 13/50\n",
      "221/221 [==============================] - 289s 1s/step - loss: 0.6769 - accuracy: 0.7462 - val_loss: 1.5770 - val_accuracy: 0.5382\n",
      "Epoch 14/50\n",
      "221/221 [==============================] - 288s 1s/step - loss: 0.6241 - accuracy: 0.7686 - val_loss: 1.6770 - val_accuracy: 0.5467\n",
      "Epoch 15/50\n",
      "221/221 [==============================] - 288s 1s/step - loss: 0.5824 - accuracy: 0.7841 - val_loss: 1.6715 - val_accuracy: 0.5390\n",
      "Epoch 16/50\n",
      "221/221 [==============================] - 289s 1s/step - loss: 0.5520 - accuracy: 0.7975 - val_loss: 1.7447 - val_accuracy: 0.5263\n",
      "Epoch 17/50\n",
      "221/221 [==============================] - 289s 1s/step - loss: 0.5006 - accuracy: 0.8180 - val_loss: 1.8796 - val_accuracy: 0.5195\n",
      "Epoch 18/50\n",
      "221/221 [==============================] - 289s 1s/step - loss: 0.4888 - accuracy: 0.8216 - val_loss: 1.9344 - val_accuracy: 0.5512\n",
      "Epoch 19/50\n",
      "221/221 [==============================] - 288s 1s/step - loss: 0.4552 - accuracy: 0.8357 - val_loss: 1.9452 - val_accuracy: 0.5473\n",
      "Epoch 20/50\n",
      "221/221 [==============================] - 298s 1s/step - loss: 0.4208 - accuracy: 0.8477 - val_loss: 2.0407 - val_accuracy: 0.5518\n",
      "Epoch 21/50\n",
      "221/221 [==============================] - 321s 1s/step - loss: 0.3931 - accuracy: 0.8581 - val_loss: 2.1037 - val_accuracy: 0.5447\n",
      "Epoch 22/50\n",
      "221/221 [==============================] - 319s 1s/step - loss: 0.3874 - accuracy: 0.8600 - val_loss: 2.0765 - val_accuracy: 0.5600\n",
      "Epoch 23/50\n",
      "221/221 [==============================] - 324s 1s/step - loss: 0.3888 - accuracy: 0.8609 - val_loss: 2.0830 - val_accuracy: 0.5413\n",
      "Epoch 24/50\n",
      "221/221 [==============================] - 316s 1s/step - loss: 0.3471 - accuracy: 0.8761 - val_loss: 2.2055 - val_accuracy: 0.5359\n",
      "Epoch 25/50\n",
      "221/221 [==============================] - 322s 1s/step - loss: 0.3207 - accuracy: 0.8838 - val_loss: 2.2473 - val_accuracy: 0.5557\n",
      "Epoch 26/50\n",
      "221/221 [==============================] - 318s 1s/step - loss: 0.3253 - accuracy: 0.8829 - val_loss: 2.2897 - val_accuracy: 0.5390\n",
      "Epoch 27/50\n",
      "221/221 [==============================] - 318s 1s/step - loss: 0.2955 - accuracy: 0.8936 - val_loss: 2.3890 - val_accuracy: 0.5651\n",
      "Epoch 28/50\n",
      "221/221 [==============================] - 303s 1s/step - loss: 0.2821 - accuracy: 0.9006 - val_loss: 2.3933 - val_accuracy: 0.5351\n",
      "Epoch 29/50\n",
      "221/221 [==============================] - 288s 1s/step - loss: 0.2692 - accuracy: 0.9054 - val_loss: 2.4356 - val_accuracy: 0.5473\n",
      "Epoch 30/50\n",
      "221/221 [==============================] - 289s 1s/step - loss: 0.2960 - accuracy: 0.8945 - val_loss: 2.3870 - val_accuracy: 0.5390\n",
      "Epoch 31/50\n",
      "221/221 [==============================] - 288s 1s/step - loss: 0.2541 - accuracy: 0.9113 - val_loss: 2.4203 - val_accuracy: 0.5656\n",
      "Epoch 32/50\n",
      "221/221 [==============================] - 287s 1s/step - loss: 0.2392 - accuracy: 0.9149 - val_loss: 2.5712 - val_accuracy: 0.5606\n",
      "Epoch 33/50\n",
      "221/221 [==============================] - 288s 1s/step - loss: 0.2345 - accuracy: 0.9165 - val_loss: 2.5292 - val_accuracy: 0.5594\n",
      "Epoch 34/50\n",
      "221/221 [==============================] - 287s 1s/step - loss: 0.2263 - accuracy: 0.9191 - val_loss: 2.4757 - val_accuracy: 0.5283\n",
      "Epoch 35/50\n",
      "221/221 [==============================] - 288s 1s/step - loss: 0.2246 - accuracy: 0.9190 - val_loss: 2.4749 - val_accuracy: 0.5589\n",
      "Epoch 36/50\n",
      "221/221 [==============================] - 289s 1s/step - loss: 0.2137 - accuracy: 0.9238 - val_loss: 2.4085 - val_accuracy: 0.5357\n",
      "Epoch 37/50\n",
      "221/221 [==============================] - 287s 1s/step - loss: 0.2119 - accuracy: 0.9252 - val_loss: 2.5914 - val_accuracy: 0.5591\n",
      "Epoch 38/50\n",
      "221/221 [==============================] - 290s 1s/step - loss: 0.2025 - accuracy: 0.9274 - val_loss: 2.5627 - val_accuracy: 0.5648\n",
      "Epoch 39/50\n",
      "221/221 [==============================] - 287s 1s/step - loss: 0.2008 - accuracy: 0.9297 - val_loss: 2.6295 - val_accuracy: 0.5628\n",
      "Epoch 40/50\n",
      "221/221 [==============================] - 286s 1s/step - loss: 0.1908 - accuracy: 0.9348 - val_loss: 2.5804 - val_accuracy: 0.5342\n",
      "Epoch 41/50\n",
      "221/221 [==============================] - 284s 1s/step - loss: 0.1895 - accuracy: 0.9332 - val_loss: 2.4040 - val_accuracy: 0.5235\n",
      "Epoch 42/50\n",
      "221/221 [==============================] - 283s 1s/step - loss: 0.1884 - accuracy: 0.9336 - val_loss: 2.7409 - val_accuracy: 0.5535\n",
      "Epoch 43/50\n",
      "221/221 [==============================] - 286s 1s/step - loss: 0.1785 - accuracy: 0.9365 - val_loss: 2.8269 - val_accuracy: 0.5450\n",
      "Epoch 44/50\n",
      "221/221 [==============================] - 285s 1s/step - loss: 0.1822 - accuracy: 0.9352 - val_loss: 2.7510 - val_accuracy: 0.5560\n",
      "Epoch 45/50\n",
      "221/221 [==============================] - 284s 1s/step - loss: 0.1783 - accuracy: 0.9379 - val_loss: 2.8233 - val_accuracy: 0.5532\n",
      "Epoch 46/50\n",
      "221/221 [==============================] - 286s 1s/step - loss: 0.1659 - accuracy: 0.9416 - val_loss: 2.8271 - val_accuracy: 0.5753\n",
      "Epoch 47/50\n",
      "221/221 [==============================] - 293s 1s/step - loss: 0.1698 - accuracy: 0.9406 - val_loss: 2.8625 - val_accuracy: 0.5523\n",
      "Epoch 48/50\n",
      "221/221 [==============================] - 315s 1s/step - loss: 0.1636 - accuracy: 0.9428 - val_loss: 2.7860 - val_accuracy: 0.5603\n",
      "Epoch 49/50\n",
      "221/221 [==============================] - 315s 1s/step - loss: 0.1611 - accuracy: 0.9445 - val_loss: 2.8286 - val_accuracy: 0.5625\n",
      "Epoch 50/50\n",
      "221/221 [==============================] - 317s 1s/step - loss: 0.1543 - accuracy: 0.9450 - val_loss: 2.9294 - val_accuracy: 0.5625\n"
     ]
    },
    {
     "data": {
      "text/plain": [
       "<keras.src.callbacks.History at 0x20155d64d90>"
      ]
     },
     "execution_count": 45,
     "metadata": {},
     "output_type": "execute_result"
    }
   ],
   "source": [
    "model.fit(train_dataset,validation_data=val_dataset,epochs=50,batch_size=128,verbose=1)"
   ]
  },
  {
   "cell_type": "code",
   "execution_count": 48,
   "id": "c4106ba6-84f2-4854-99dc-aba0c2010bcc",
   "metadata": {},
   "outputs": [
    {
     "name": "stdout",
     "output_type": "stream",
     "text": [
      "Model: \"sequential_3\"\n",
      "_________________________________________________________________\n",
      " Layer (type)                Output Shape              Param #   \n",
      "=================================================================\n",
      " conv2d_15 (Conv2D)          (None, 48, 48, 64)        640       \n",
      "                                                                 \n",
      " batch_normalization_16 (Ba  (None, 48, 48, 64)        256       \n",
      " tchNormalization)                                               \n",
      "                                                                 \n",
      " max_pooling2d_12 (MaxPooli  (None, 24, 24, 64)        0         \n",
      " ng2D)                                                           \n",
      "                                                                 \n",
      " dropout_16 (Dropout)        (None, 24, 24, 64)        0         \n",
      "                                                                 \n",
      " conv2d_16 (Conv2D)          (None, 24, 24, 128)       204928    \n",
      "                                                                 \n",
      " batch_normalization_17 (Ba  (None, 24, 24, 128)       512       \n",
      " tchNormalization)                                               \n",
      "                                                                 \n",
      " max_pooling2d_13 (MaxPooli  (None, 12, 12, 128)       0         \n",
      " ng2D)                                                           \n",
      "                                                                 \n",
      " dropout_17 (Dropout)        (None, 12, 12, 128)       0         \n",
      "                                                                 \n",
      " conv2d_17 (Conv2D)          (None, 12, 12, 256)       295168    \n",
      "                                                                 \n",
      " batch_normalization_18 (Ba  (None, 12, 12, 256)       1024      \n",
      " tchNormalization)                                               \n",
      "                                                                 \n",
      " max_pooling2d_14 (MaxPooli  (None, 6, 6, 256)         0         \n",
      " ng2D)                                                           \n",
      "                                                                 \n",
      " dropout_18 (Dropout)        (None, 6, 6, 256)         0         \n",
      "                                                                 \n",
      " conv2d_18 (Conv2D)          (None, 6, 6, 512)         1180160   \n",
      "                                                                 \n",
      " batch_normalization_19 (Ba  (None, 6, 6, 512)         2048      \n",
      " tchNormalization)                                               \n",
      "                                                                 \n",
      " max_pooling2d_15 (MaxPooli  (None, 3, 3, 512)         0         \n",
      " ng2D)                                                           \n",
      "                                                                 \n",
      " dropout_19 (Dropout)        (None, 3, 3, 512)         0         \n",
      "                                                                 \n",
      " flatten_3 (Flatten)         (None, 4608)              0         \n",
      "                                                                 \n",
      " dense_7 (Dense)             (None, 128)               589952    \n",
      "                                                                 \n",
      " batch_normalization_20 (Ba  (None, 128)               512       \n",
      " tchNormalization)                                               \n",
      "                                                                 \n",
      " dropout_20 (Dropout)        (None, 128)               0         \n",
      "                                                                 \n",
      " dense_8 (Dense)             (None, 256)               33024     \n",
      "                                                                 \n",
      " batch_normalization_21 (Ba  (None, 256)               1024      \n",
      " tchNormalization)                                               \n",
      "                                                                 \n",
      " dropout_21 (Dropout)        (None, 256)               0         \n",
      "                                                                 \n",
      " dense_9 (Dense)             (None, 6)                 1542      \n",
      "                                                                 \n",
      "=================================================================\n",
      "Total params: 2310790 (8.81 MB)\n",
      "Trainable params: 2308102 (8.80 MB)\n",
      "Non-trainable params: 2688 (10.50 KB)\n",
      "_________________________________________________________________\n"
     ]
    }
   ],
   "source": [
    "model.summary()"
   ]
  },
  {
   "cell_type": "code",
   "execution_count": 50,
   "id": "e8794b71-a3bd-4781-8ce9-46b10c460449",
   "metadata": {},
   "outputs": [
    {
     "name": "stdout",
     "output_type": "stream",
     "text": [
      "28/28 [==============================] - 6s 227ms/step - loss: 2.9294 - accuracy: 0.5625\n"
     ]
    },
    {
     "data": {
      "text/plain": [
       "[2.9294278621673584, 0.5625353455543518]"
      ]
     },
     "execution_count": 50,
     "metadata": {},
     "output_type": "execute_result"
    }
   ],
   "source": [
    "model.evaluate(val_dataset)"
   ]
  },
  {
   "cell_type": "code",
   "execution_count": 56,
   "id": "74ff5a60-1cd5-4536-8f92-c1e2945a8a42",
   "metadata": {},
   "outputs": [],
   "source": [
    "import pickle"
   ]
  },
  {
   "cell_type": "code",
   "execution_count": 57,
   "id": "558e45d0-de0a-4379-85dc-a0efb501ec42",
   "metadata": {},
   "outputs": [],
   "source": [
    "pickle.dump(model,open(\"model.pkl\",\"wb\"))"
   ]
  },
  {
   "cell_type": "code",
   "execution_count": null,
   "id": "74048463-ae12-48c7-9273-4562bfa3b39b",
   "metadata": {},
   "outputs": [],
   "source": []
  }
 ],
 "metadata": {
  "kernelspec": {
   "display_name": "Python 3 (ipykernel)",
   "language": "python",
   "name": "python3"
  },
  "language_info": {
   "codemirror_mode": {
    "name": "ipython",
    "version": 3
   },
   "file_extension": ".py",
   "mimetype": "text/x-python",
   "name": "python",
   "nbconvert_exporter": "python",
   "pygments_lexer": "ipython3",
   "version": "3.11.5"
  }
 },
 "nbformat": 4,
 "nbformat_minor": 5
}
